{
  "nbformat": 4,
  "nbformat_minor": 0,
  "metadata": {
    "colab": {
      "provenance": [],
      "toc_visible": true,
      "authorship_tag": "ABX9TyMJasIz+Pu5ByNKEwKOz6iP",
      "include_colab_link": true
    },
    "kernelspec": {
      "name": "python3",
      "display_name": "Python 3"
    },
    "language_info": {
      "name": "python"
    }
  },
  "cells": [
    {
      "cell_type": "markdown",
      "metadata": {
        "id": "view-in-github",
        "colab_type": "text"
      },
      "source": [
        "<a href=\"https://colab.research.google.com/github/vivianjjiang/ds2002/blob/main/FinanceAPIHW.ipynb\" target=\"_parent\"><img src=\"https://colab.research.google.com/assets/colab-badge.svg\" alt=\"Open In Colab\"/></a>"
      ]
    },
    {
      "cell_type": "code",
      "execution_count": 3,
      "metadata": {
        "id": "yROo-yXGzRP6"
      },
      "outputs": [],
      "source": [
        "import json\n",
        "import pandas as pd\n",
        "import json\n",
        "import requests"
      ]
    },
    {
      "cell_type": "markdown",
      "source": [
        "Objective\n",
        "In this assignment, you will:\n",
        "1. Request stock data for two or more stock symbols.\n",
        "2. Extract and display only the Stock Ticker, Company Name, and Current Market Price.\n",
        "3. Allow the user to call another endpoint with a module and store the response in a\n",
        "DataFrame."
      ],
      "metadata": {
        "id": "n3Q_EroJzaPF"
      }
    },
    {
      "cell_type": "markdown",
      "source": [],
      "metadata": {
        "id": "FXJ0DNxhz4HO"
      }
    },
    {
      "cell_type": "markdown",
      "source": [
        "Task 1: Fetch Basic Stock Data 10pts\n",
        "- Prompt the user to input two or more stock symbols.\n",
        "- Use the API to fetch data for the given symbols.\n",
        "- Extract and display only the Stock Ticker, Company Name, and Current Market Price.\n",
        "Example Output:\n",
        "Stock Ticker: AAPL, Company: Apple Inc., Current Market Price: $175.23\n",
        "Stock Ticker: MSFT, Company: Microsoft Corp., Current Market Price: $310.45"
      ],
      "metadata": {
        "id": "zJ2XKkxGzcZo"
      }
    },
    {
      "cell_type": "code",
      "source": [
        "#get stock from the user\n",
        "stock=input()"
      ],
      "metadata": {
        "id": "BYGamjk80sfz",
        "colab": {
          "base_uri": "https://localhost:8080/"
        },
        "outputId": "4abd8fd2-fbbf-43ec-c7d1-7d0c438667f8"
      },
      "execution_count": 5,
      "outputs": [
        {
          "name": "stdout",
          "output_type": "stream",
          "text": [
            "APPL,MSFT\n"
          ]
        }
      ]
    },
    {
      "cell_type": "code",
      "source": [
        "apikey=\"\"\n",
        "\n",
        "url = \"https://yfapi.net/v6/finance/quote\"\n",
        "\n",
        "querystring = {\"symbols\":stock}\n",
        "\n",
        "headers = {\n",
        "    'x-api-key': apikey\n",
        "    }\n",
        "\n",
        "response = requests.get(url, headers=headers, params=querystring)\n",
        "\n",
        "print(response.text)"
      ],
      "metadata": {
        "id": "FX-Atsgjz9OV",
        "colab": {
          "base_uri": "https://localhost:8080/"
        },
        "outputId": "da2f4285-83c5-420a-c115-65cd5d767f14"
      },
      "execution_count": 6,
      "outputs": [
        {
          "output_type": "stream",
          "name": "stdout",
          "text": [
            "{\"quoteResponse\":{\"result\":[{\"language\":\"en-US\",\"region\":\"US\",\"quoteType\":\"MUTUALFUND\",\"typeDisp\":\"Fund\",\"quoteSourceName\":\"Delayed Quote\",\"triggerable\":false,\"customPriceAlertConfidence\":\"NONE\",\"marketState\":\"POST\",\"corporateActions\":[],\"regularMarketTime\":1561759658,\"exchange\":\"YHD\",\"exchangeTimezoneName\":\"America/New_York\",\"exchangeTimezoneShortName\":\"EST\",\"gmtOffSetMilliseconds\":-18000000,\"market\":\"us_market\",\"esgPopulated\":false,\"hasPrePostMarketData\":false,\"priceHint\":2,\"fullExchangeName\":\"YHD\",\"sourceInterval\":15,\"exchangeDataDelayedBy\":0,\"tradeable\":false,\"cryptoTradeable\":false,\"symbol\":\"APPL\"},{\"language\":\"en-US\",\"region\":\"US\",\"quoteType\":\"EQUITY\",\"typeDisp\":\"Equity\",\"quoteSourceName\":\"Nasdaq Real Time Price\",\"triggerable\":true,\"customPriceAlertConfidence\":\"HIGH\",\"currency\":\"USD\",\"marketState\":\"POST\",\"corporateActions\":[],\"postMarketTime\":1740607811,\"regularMarketTime\":1740603600,\"regularMarketChangePercent\":0.45991886,\"regularMarketPrice\":399.73,\"exchange\":\"NMS\",\"messageBoardId\":\"finmb_21835\",\"exchangeTimezoneName\":\"America/New_York\",\"exchangeTimezoneShortName\":\"EST\",\"gmtOffSetMilliseconds\":-18000000,\"market\":\"us_market\",\"esgPopulated\":false,\"hasPrePostMarketData\":true,\"firstTradeDateMilliseconds\":511108200000,\"priceHint\":2,\"postMarketChangePercent\":-1.3032097,\"postMarketPrice\":394.5207,\"postMarketChange\":-5.20932,\"regularMarketChange\":1.8300171,\"regularMarketDayHigh\":403.6,\"regularMarketDayRange\":\"394.245 - 403.6\",\"regularMarketDayLow\":394.245,\"regularMarketVolume\":19488244,\"regularMarketPreviousClose\":397.9,\"bid\":399.7,\"ask\":399.96,\"bidSize\":1,\"askSize\":1,\"fullExchangeName\":\"NasdaqGS\",\"financialCurrency\":\"USD\",\"regularMarketOpen\":398.01,\"averageDailyVolume3Month\":21963676,\"averageDailyVolume10Day\":23624510,\"fiftyTwoWeekLowChange\":14.150024,\"fiftyTwoWeekLowChangePercent\":0.036698025,\"fiftyTwoWeekRange\":\"385.58 - 468.35\",\"fiftyTwoWeekHighChange\":-68.619995,\"fiftyTwoWeekHighChangePercent\":-0.14651434,\"fiftyTwoWeekLow\":385.58,\"fiftyTwoWeekHigh\":468.35,\"fiftyTwoWeekChangePercent\":-2.4085164,\"shortName\":\"Microsoft Corporation\",\"longName\":\"Microsoft Corporation\",\"dividendDate\":1741824000,\"earningsTimestamp\":1738184400,\"earningsTimestampStart\":1745438400,\"earningsTimestampEnd\":1745870400,\"earningsCallTimestampStart\":1738189800,\"earningsCallTimestampEnd\":1738189800,\"isEarningsDateEstimate\":true,\"trailingAnnualDividendRate\":3.16,\"trailingPE\":32.210316,\"dividendRate\":3.32,\"trailingAnnualDividendYield\":0.007941694,\"dividendYield\":0.83,\"epsTrailingTwelveMonths\":12.41,\"epsForward\":14.95,\"epsCurrentYear\":13.18475,\"priceEpsCurrentYear\":30.317604,\"sharesOutstanding\":7433979904,\"bookValue\":40.712,\"fiftyDayAverage\":425.6992,\"fiftyDayAverageChange\":-25.969177,\"fiftyDayAverageChangePercent\":-0.06100359,\"twoHundredDayAverage\":426.2149,\"twoHundredDayAverageChange\":-26.484894,\"twoHundredDayAverageChangePercent\":-0.062139764,\"marketCap\":2971584954368,\"forwardPE\":26.737793,\"priceToBook\":9.8184805,\"sourceInterval\":15,\"exchangeDataDelayedBy\":0,\"averageAnalystRating\":\"1.4 - Strong Buy\",\"tradeable\":false,\"cryptoTradeable\":false,\"displayName\":\"Microsoft\",\"symbol\":\"MSFT\"}],\"error\":null}}\n"
          ]
        }
      ]
    },
    {
      "cell_type": "code",
      "source": [
        "df = pd.DataFrame(response.json()['quoteResponse']['result'])\n",
        "print(df[['symbol','shortName','regularMarketPrice']])\n"
      ],
      "metadata": {
        "id": "2FkgLnFw2B9P",
        "colab": {
          "base_uri": "https://localhost:8080/"
        },
        "outputId": "41456fc6-553e-4c38-9155-6b92b759539a"
      },
      "execution_count": null,
      "outputs": [
        {
          "output_type": "stream",
          "name": "stdout",
          "text": [
            "  symbol              shortName  regularMarketPrice\n",
            "0   AAPL             Apple Inc.               247.1\n",
            "1   MSFT  Microsoft Corporation               404.0\n"
          ]
        }
      ]
    },
    {
      "cell_type": "markdown",
      "source": [
        "Task 2.1: Fetch Additional Data Using Modules 10pts\n",
        "- Allow the user to choose a module from the Quote Summary Endpoint.\n",
        "Find:\n",
        "52 Week High\n",
        "52 Week Low\n",
        "Return on Assets (ROA)\n",
        "- Make an API request using the chosen module.\n",
        "- Convert the response into a Pandas DataFrame.\n",
        "- Display the DataFrame."
      ],
      "metadata": {
        "id": "DIFitMxZ7tS2"
      }
    },
    {
      "cell_type": "code",
      "source": [
        "module = input()"
      ],
      "metadata": {
        "colab": {
          "base_uri": "https://localhost:8080/"
        },
        "id": "5K1lKUcPVSjF",
        "outputId": "ee4b21a7-bd89-481d-bc3f-4f7af8c33254"
      },
      "execution_count": 19,
      "outputs": [
        {
          "name": "stdout",
          "output_type": "stream",
          "text": [
            "summaryDetail,financialData\n"
          ]
        }
      ]
    },
    {
      "cell_type": "code",
      "source": [
        "url = \"https://yfapi.net/v11/finance/quoteSummary/AAPL\"\n",
        "\n",
        "querystring = {\n",
        "    \"modules\": module\n",
        "}\n",
        "\n",
        "headers = {\n",
        "    'x-api-key': apikey\n",
        "}\n",
        "\n",
        "# headers = {'Authorization': f'Bearer {apikey}'}\n",
        "\n",
        "response = requests.get(url, headers=headers, params=querystring)\n",
        "\n",
        "# Pretty print the JSON response\n",
        "print(json.dumps(response.json(), indent=4))"
      ],
      "metadata": {
        "colab": {
          "base_uri": "https://localhost:8080/"
        },
        "id": "YsJ6AUzgVVLm",
        "outputId": "85cc42f1-9756-4dc8-a4e5-9603c9912757"
      },
      "execution_count": 20,
      "outputs": [
        {
          "output_type": "stream",
          "name": "stdout",
          "text": [
            "{\n",
            "    \"quoteSummary\": {\n",
            "        \"result\": [\n",
            "            {\n",
            "                \"summaryDetail\": {\n",
            "                    \"maxAge\": 1,\n",
            "                    \"priceHint\": {\n",
            "                        \"raw\": 2,\n",
            "                        \"fmt\": \"2\",\n",
            "                        \"longFmt\": \"2\"\n",
            "                    },\n",
            "                    \"previousClose\": {\n",
            "                        \"raw\": 247.04,\n",
            "                        \"fmt\": \"247.04\"\n",
            "                    },\n",
            "                    \"open\": {\n",
            "                        \"raw\": 244.33,\n",
            "                        \"fmt\": \"244.33\"\n",
            "                    },\n",
            "                    \"dayLow\": {\n",
            "                        \"raw\": 239.13,\n",
            "                        \"fmt\": \"239.13\"\n",
            "                    },\n",
            "                    \"dayHigh\": {\n",
            "                        \"raw\": 244.98,\n",
            "                        \"fmt\": \"244.98\"\n",
            "                    },\n",
            "                    \"regularMarketPreviousClose\": {\n",
            "                        \"raw\": 247.04,\n",
            "                        \"fmt\": \"247.04\"\n",
            "                    },\n",
            "                    \"regularMarketOpen\": {\n",
            "                        \"raw\": 244.33,\n",
            "                        \"fmt\": \"244.33\"\n",
            "                    },\n",
            "                    \"regularMarketDayLow\": {\n",
            "                        \"raw\": 239.13,\n",
            "                        \"fmt\": \"239.13\"\n",
            "                    },\n",
            "                    \"regularMarketDayHigh\": {\n",
            "                        \"raw\": 244.98,\n",
            "                        \"fmt\": \"244.98\"\n",
            "                    },\n",
            "                    \"dividendRate\": {\n",
            "                        \"raw\": 1.0,\n",
            "                        \"fmt\": \"1.00\"\n",
            "                    },\n",
            "                    \"dividendYield\": {\n",
            "                        \"raw\": 0.004,\n",
            "                        \"fmt\": \"0.40%\"\n",
            "                    },\n",
            "                    \"exDividendDate\": {\n",
            "                        \"raw\": 1739145600,\n",
            "                        \"fmt\": \"2025-02-10\"\n",
            "                    },\n",
            "                    \"payoutRatio\": {\n",
            "                        \"raw\": 0.1571,\n",
            "                        \"fmt\": \"15.71%\"\n",
            "                    },\n",
            "                    \"fiveYearAvgDividendYield\": {\n",
            "                        \"raw\": 0.6,\n",
            "                        \"fmt\": \"0.60\"\n",
            "                    },\n",
            "                    \"beta\": {\n",
            "                        \"raw\": 1.2,\n",
            "                        \"fmt\": \"1.20\"\n",
            "                    },\n",
            "                    \"trailingPE\": {\n",
            "                        \"raw\": 38.152378,\n",
            "                        \"fmt\": \"38.15\"\n",
            "                    },\n",
            "                    \"forwardPE\": {\n",
            "                        \"raw\": 28.924187,\n",
            "                        \"fmt\": \"28.92\"\n",
            "                    },\n",
            "                    \"volume\": {\n",
            "                        \"raw\": 43602013,\n",
            "                        \"fmt\": \"43.6M\",\n",
            "                        \"longFmt\": \"43,602,013\"\n",
            "                    },\n",
            "                    \"regularMarketVolume\": {\n",
            "                        \"raw\": 43602013,\n",
            "                        \"fmt\": \"43.6M\",\n",
            "                        \"longFmt\": \"43,602,013\"\n",
            "                    },\n",
            "                    \"averageVolume\": {\n",
            "                        \"raw\": 50169216,\n",
            "                        \"fmt\": \"50.17M\",\n",
            "                        \"longFmt\": \"50,169,216\"\n",
            "                    },\n",
            "                    \"averageVolume10days\": {\n",
            "                        \"raw\": 45929720,\n",
            "                        \"fmt\": \"45.93M\",\n",
            "                        \"longFmt\": \"45,929,720\"\n",
            "                    },\n",
            "                    \"averageDailyVolume10Day\": {\n",
            "                        \"raw\": 45929720,\n",
            "                        \"fmt\": \"45.93M\",\n",
            "                        \"longFmt\": \"45,929,720\"\n",
            "                    },\n",
            "                    \"bid\": {\n",
            "                        \"raw\": 240.24,\n",
            "                        \"fmt\": \"240.24\"\n",
            "                    },\n",
            "                    \"ask\": {\n",
            "                        \"raw\": 240.34,\n",
            "                        \"fmt\": \"240.34\"\n",
            "                    },\n",
            "                    \"bidSize\": {\n",
            "                        \"raw\": 100,\n",
            "                        \"fmt\": \"100\",\n",
            "                        \"longFmt\": \"100\"\n",
            "                    },\n",
            "                    \"askSize\": {\n",
            "                        \"raw\": 100,\n",
            "                        \"fmt\": \"100\",\n",
            "                        \"longFmt\": \"100\"\n",
            "                    },\n",
            "                    \"marketCap\": {\n",
            "                        \"raw\": 3610712211456,\n",
            "                        \"fmt\": \"3.61T\",\n",
            "                        \"longFmt\": \"3,610,712,211,456\"\n",
            "                    },\n",
            "                    \"yield\": {},\n",
            "                    \"ytdReturn\": {},\n",
            "                    \"qtdReturn\": {},\n",
            "                    \"totalAssets\": {},\n",
            "                    \"expireDate\": {},\n",
            "                    \"strikePrice\": {},\n",
            "                    \"openInterest\": {},\n",
            "                    \"fiftyTwoWeekLow\": {\n",
            "                        \"raw\": 164.08,\n",
            "                        \"fmt\": \"164.08\"\n",
            "                    },\n",
            "                    \"fiftyTwoWeekHigh\": {\n",
            "                        \"raw\": 260.1,\n",
            "                        \"fmt\": \"260.10\"\n",
            "                    },\n",
            "                    \"priceToSalesTrailing12Months\": {\n",
            "                        \"raw\": 9.123489,\n",
            "                        \"fmt\": \"9.12\"\n",
            "                    },\n",
            "                    \"fiftyDayAverage\": {\n",
            "                        \"raw\": 240.6826,\n",
            "                        \"fmt\": \"240.68\"\n",
            "                    },\n",
            "                    \"twoHundredDayAverage\": {\n",
            "                        \"raw\": 225.0356,\n",
            "                        \"fmt\": \"225.04\"\n",
            "                    },\n",
            "                    \"trailingAnnualDividendRate\": {\n",
            "                        \"raw\": 0.99,\n",
            "                        \"fmt\": \"0.99\"\n",
            "                    },\n",
            "                    \"trailingAnnualDividendYield\": {\n",
            "                        \"raw\": 0.0040074484,\n",
            "                        \"fmt\": \"0.40%\"\n",
            "                    },\n",
            "                    \"navPrice\": {},\n",
            "                    \"currency\": \"USD\",\n",
            "                    \"fromCurrency\": null,\n",
            "                    \"toCurrency\": null,\n",
            "                    \"lastMarket\": null,\n",
            "                    \"coinMarketCapLink\": null,\n",
            "                    \"volume24Hr\": {},\n",
            "                    \"volumeAllCurrencies\": {},\n",
            "                    \"circulatingSupply\": {},\n",
            "                    \"algorithm\": null,\n",
            "                    \"maxSupply\": {},\n",
            "                    \"startDate\": {},\n",
            "                    \"tradeable\": false\n",
            "                },\n",
            "                \"financialData\": {\n",
            "                    \"maxAge\": 86400,\n",
            "                    \"currentPrice\": {\n",
            "                        \"raw\": 240.36,\n",
            "                        \"fmt\": \"240.36\"\n",
            "                    },\n",
            "                    \"targetHighPrice\": {\n",
            "                        \"raw\": 325.0,\n",
            "                        \"fmt\": \"325.00\"\n",
            "                    },\n",
            "                    \"targetLowPrice\": {\n",
            "                        \"raw\": 197.0,\n",
            "                        \"fmt\": \"197.00\"\n",
            "                    },\n",
            "                    \"targetMeanPrice\": {\n",
            "                        \"raw\": 252.22575,\n",
            "                        \"fmt\": \"252.23\"\n",
            "                    },\n",
            "                    \"targetMedianPrice\": {\n",
            "                        \"raw\": 257.5,\n",
            "                        \"fmt\": \"257.50\"\n",
            "                    },\n",
            "                    \"recommendationMean\": {\n",
            "                        \"raw\": 2.06522,\n",
            "                        \"fmt\": \"2.07\"\n",
            "                    },\n",
            "                    \"recommendationKey\": \"buy\",\n",
            "                    \"numberOfAnalystOpinions\": {\n",
            "                        \"raw\": 40,\n",
            "                        \"fmt\": \"40\",\n",
            "                        \"longFmt\": \"40\"\n",
            "                    },\n",
            "                    \"totalCash\": {\n",
            "                        \"raw\": 53774999552,\n",
            "                        \"fmt\": \"53.77B\",\n",
            "                        \"longFmt\": \"53,774,999,552\"\n",
            "                    },\n",
            "                    \"totalCashPerShare\": {\n",
            "                        \"raw\": 3.58,\n",
            "                        \"fmt\": \"3.58\"\n",
            "                    },\n",
            "                    \"ebitda\": {\n",
            "                        \"raw\": 137352003584,\n",
            "                        \"fmt\": \"137.35B\",\n",
            "                        \"longFmt\": \"137,352,003,584\"\n",
            "                    },\n",
            "                    \"totalDebt\": {\n",
            "                        \"raw\": 96798998528,\n",
            "                        \"fmt\": \"96.8B\",\n",
            "                        \"longFmt\": \"96,798,998,528\"\n",
            "                    },\n",
            "                    \"quickRatio\": {\n",
            "                        \"raw\": 0.783,\n",
            "                        \"fmt\": \"0.78\"\n",
            "                    },\n",
            "                    \"currentRatio\": {\n",
            "                        \"raw\": 0.923,\n",
            "                        \"fmt\": \"0.92\"\n",
            "                    },\n",
            "                    \"totalRevenue\": {\n",
            "                        \"raw\": 395760009216,\n",
            "                        \"fmt\": \"395.76B\",\n",
            "                        \"longFmt\": \"395,760,009,216\"\n",
            "                    },\n",
            "                    \"debtToEquity\": {\n",
            "                        \"raw\": 145.0,\n",
            "                        \"fmt\": \"145.00%\"\n",
            "                    },\n",
            "                    \"revenuePerShare\": {\n",
            "                        \"raw\": 25.974,\n",
            "                        \"fmt\": \"25.97\"\n",
            "                    },\n",
            "                    \"returnOnAssets\": {\n",
            "                        \"raw\": 0.22518998,\n",
            "                        \"fmt\": \"22.52%\"\n",
            "                    },\n",
            "                    \"returnOnEquity\": {\n",
            "                        \"raw\": 1.3652,\n",
            "                        \"fmt\": \"136.52%\"\n",
            "                    },\n",
            "                    \"grossProfits\": {\n",
            "                        \"raw\": 184102993920,\n",
            "                        \"fmt\": \"184.1B\",\n",
            "                        \"longFmt\": \"184,102,993,920\"\n",
            "                    },\n",
            "                    \"freeCashflow\": {\n",
            "                        \"raw\": 93833871360,\n",
            "                        \"fmt\": \"93.83B\",\n",
            "                        \"longFmt\": \"93,833,871,360\"\n",
            "                    },\n",
            "                    \"operatingCashflow\": {\n",
            "                        \"raw\": 108293996544,\n",
            "                        \"fmt\": \"108.29B\",\n",
            "                        \"longFmt\": \"108,293,996,544\"\n",
            "                    },\n",
            "                    \"earningsGrowth\": {\n",
            "                        \"raw\": 0.101,\n",
            "                        \"fmt\": \"10.10%\"\n",
            "                    },\n",
            "                    \"revenueGrowth\": {\n",
            "                        \"raw\": 0.04,\n",
            "                        \"fmt\": \"4.00%\"\n",
            "                    },\n",
            "                    \"grossMargins\": {\n",
            "                        \"raw\": 0.46519002,\n",
            "                        \"fmt\": \"46.52%\"\n",
            "                    },\n",
            "                    \"ebitdaMargins\": {\n",
            "                        \"raw\": 0.34706002,\n",
            "                        \"fmt\": \"34.71%\"\n",
            "                    },\n",
            "                    \"operatingMargins\": {\n",
            "                        \"raw\": 0.34459,\n",
            "                        \"fmt\": \"34.46%\"\n",
            "                    },\n",
            "                    \"profitMargins\": {\n",
            "                        \"raw\": 0.24295,\n",
            "                        \"fmt\": \"24.30%\"\n",
            "                    },\n",
            "                    \"financialCurrency\": \"USD\"\n",
            "                }\n",
            "            }\n",
            "        ],\n",
            "        \"error\": null\n",
            "    }\n",
            "}\n"
          ]
        }
      ]
    },
    {
      "cell_type": "code",
      "source": [
        "df = pd.DataFrame(response.json()['quoteSummary']['result'])\n",
        "df_summary = pd.json_normalize(df['summaryDetail'])\n",
        "df_financial = pd.json_normalize(df['financialData'])\n",
        "df_merged = pd.concat([df_summary, df_financial], axis=1)\n",
        "df_merged.rename(columns={\"fiftyTwoWeekHigh.raw\": \"52 Week High\", \"fiftyTwoWeekLow.raw\": \"52 Week Low\", \"returnOnAssets.raw\": \"Return On Assets (ROA)\"}, inplace=True)\n",
        "print(df_merged[[\"52 Week High\",\"52 Week Low\", \"Return On Assets (ROA)\"]])"
      ],
      "metadata": {
        "colab": {
          "base_uri": "https://localhost:8080/"
        },
        "id": "0oAmNkF_VXW_",
        "outputId": "4d94cb04-715f-4931-c745-fe3a80e64345"
      },
      "execution_count": 22,
      "outputs": [
        {
          "output_type": "stream",
          "name": "stdout",
          "text": [
            "   52 Week High  52 Week Low  Return On Assets (ROA)\n",
            "0         260.1       164.08                 0.22519\n"
          ]
        }
      ]
    },
    {
      "cell_type": "markdown",
      "source": [
        "Task 2.2: Fetch Additional Data Using Modules 10pts\n",
        "Find Current Trending Stocks , Their Actual Name and Ticker and Current Price as well as\n",
        "their 52 high and low."
      ],
      "metadata": {
        "id": "Ze2fztoH7qPT"
      }
    },
    {
      "cell_type": "code",
      "source": [
        "trend_url = \"https://yfapi.net/v1/finance/trending/US\"\n",
        "qs_url = \"https://yfapi.net/v11/finance/quoteSummary\""
      ],
      "metadata": {
        "id": "fajpFmuuaYR8"
      },
      "execution_count": 23,
      "outputs": []
    },
    {
      "cell_type": "code",
      "source": [
        "def get_trending_stocks():\n",
        "    headers = {'x-api-key': apikey}\n",
        "    response = requests.get(trend_url, headers=headers)\n",
        "\n",
        "    if response.status_code == 200:\n",
        "        data = response.json().get(\"finance\", {}).get(\"result\", [])\n",
        "\n",
        "        if not data:\n",
        "            print(\"No trending stocks found.\")\n",
        "            return []\n",
        "\n",
        "        # grab stock symbols from trending list\n",
        "        return [item[\"symbol\"] for item in data[0][\"quotes\"]]\n",
        "\n",
        "    else:\n",
        "        print(\"Failed to fetch trending stocks.\")\n",
        "        return []\n",
        "\n",
        "def get_stock_details(symbols):\n",
        "    stock_data = []\n",
        "\n",
        "    for symbol in symbols:\n",
        "        querystring = {\"modules\": \"price,summaryDetail\"}\n",
        "        headers = {'x-api-key': apikey}\n",
        "        response = requests.get(f\"{qs_url}/{symbol}\", headers=headers, params=querystring)\n",
        "\n",
        "        if response.status_code == 200:\n",
        "            data = response.json().get(\"quoteSummary\", {}).get(\"result\", [])\n",
        "\n",
        "            if not data:\n",
        "                print(f\"No data found for {symbol}.\")\n",
        "                continue\n",
        "\n",
        "            stock_info = {\n",
        "                \"Stock Ticker\": symbol,\n",
        "                \"Company\": data[0][\"price\"].get(\"longName\", \"N/A\"),\n",
        "                \"Current Price\": f\"${data[0]['price'].get('regularMarketPrice', {}).get('raw', 'N/A')}\",\n",
        "                \"52 Week High\": data[0][\"summaryDetail\"].get(\"fiftyTwoWeekHigh\", {}).get(\"raw\", \"N/A\"),\n",
        "                \"52 Week Low\": data[0][\"summaryDetail\"].get(\"fiftyTwoWeekLow\", {}).get(\"raw\", \"N/A\")\n",
        "            }\n",
        "            stock_data.append(stock_info)\n",
        "\n",
        "        else:\n",
        "            print(f\"Failed to fetch details for {symbol}. Status Code: {response.status_code}\")\n",
        "\n",
        "    if stock_data:\n",
        "        df = pd.DataFrame(stock_data)\n",
        "        print(df)\n",
        "    else:\n",
        "        print(\"No valid data to display.\")"
      ],
      "metadata": {
        "id": "B7tRxM8PadvN"
      },
      "execution_count": 24,
      "outputs": []
    },
    {
      "cell_type": "code",
      "source": [
        "trending_symbols = get_trending_stocks()\n",
        "\n",
        "if trending_symbols:\n",
        "    get_stock_details(trending_symbols)\n",
        "else:\n",
        "    print(\"No trending stocks to display.\")"
      ],
      "metadata": {
        "colab": {
          "base_uri": "https://localhost:8080/"
        },
        "id": "kzHg2eoaamns",
        "outputId": "69a1bd07-3942-434e-e4d2-f1f0c66913be"
      },
      "execution_count": 25,
      "outputs": [
        {
          "output_type": "stream",
          "name": "stdout",
          "text": [
            "   Stock Ticker                               Company Current Price  \\\n",
            "0          NVDA                    NVIDIA Corporation       $131.28   \n",
            "1           CRM                      Salesforce, Inc.       $307.33   \n",
            "2          SNOW                        Snowflake Inc.       $166.19   \n",
            "3          IONQ                            IonQ, Inc.        $29.93   \n",
            "4          BYND                     Beyond Meat, Inc.         $3.56   \n",
            "5           APP                  AppLovin Corporation        $331.0   \n",
            "6          EBAY                             eBay Inc.        $69.14   \n",
            "7            AI                           C3.ai, Inc.        $26.44   \n",
            "8           NIO                              NIO Inc.         $4.72   \n",
            "9          SNPS                        Synopsys, Inc.       $470.46   \n",
            "10         MULN               Mullen Automotive, Inc.         $4.04   \n",
            "11         NTNX                         Nutanix, Inc.        $69.35   \n",
            "12         MARA                   MARA Holdings, Inc.        $12.45   \n",
            "13         TDOC                  Teladoc Health, Inc.        $10.99   \n",
            "14         JOBY                   Joby Aviation, Inc.          $6.7   \n",
            "15         PSTG                    Pure Storage, Inc.        $62.44   \n",
            "16           SG                      Sweetgreen, Inc.        $23.14   \n",
            "17         ROOT                            Root, Inc.        $98.71   \n",
            "18          APA                       APA Corporation        $22.01   \n",
            "19         NVDL  GraniteShares 2x Long NVDA Daily ETF        $57.64   \n",
            "\n",
            "    52 Week High  52 Week Low  \n",
            "0        153.130       75.606  \n",
            "1        369.000      212.000  \n",
            "2        233.880      107.130  \n",
            "3         54.740        6.220  \n",
            "4         12.120        3.300  \n",
            "5        525.150       57.400  \n",
            "6         71.610       46.530  \n",
            "7         45.080       18.850  \n",
            "8          7.710        3.610  \n",
            "9        624.800      457.000  \n",
            "10     47100.000        2.290  \n",
            "11        75.800       43.350  \n",
            "12        34.090       12.050  \n",
            "13        15.950        6.760  \n",
            "14        10.720        4.500  \n",
            "15        73.670       40.950  \n",
            "16        45.120       11.840  \n",
            "17       141.227       23.040  \n",
            "18        36.050       20.320  \n",
            "19        91.700       28.290  \n"
          ]
        }
      ]
    },
    {
      "cell_type": "markdown",
      "source": [
        "Bonus:"
      ],
      "metadata": {
        "id": "Iy2w-NDrV0Jd"
      }
    }
  ]
}